{
  "nbformat": 4,
  "nbformat_minor": 0,
  "metadata": {
    "colab": {
      "provenance": [],
      "authorship_tag": "ABX9TyN144GZ9Y/BcTbqQz/c21Eg",
      "include_colab_link": true
    },
    "kernelspec": {
      "name": "python3",
      "display_name": "Python 3"
    },
    "language_info": {
      "name": "python"
    }
  },
  "cells": [
    {
      "cell_type": "markdown",
      "metadata": {
        "id": "view-in-github",
        "colab_type": "text"
      },
      "source": [
        "<a href=\"https://colab.research.google.com/github/gunasekharmalla/python/blob/main/hashTags.ipynb\" target=\"_parent\"><img src=\"https://colab.research.google.com/assets/colab-badge.svg\" alt=\"Open In Colab\"/></a>"
      ]
    },
    {
      "cell_type": "code",
      "execution_count": 8,
      "metadata": {
        "id": "jeAMqSkTbMyJ"
      },
      "outputs": [],
      "source": [
        "import pandas as pd\n",
        "df = pd.read_excel(\"/content/LabeledText.xlsx\")"
      ]
    },
    {
      "cell_type": "code",
      "source": [
        "df.shape"
      ],
      "metadata": {
        "colab": {
          "base_uri": "https://localhost:8080/",
          "height": 0
        },
        "id": "Ogyv7ulDuefr",
        "outputId": "9116c637-1de4-445a-ae3e-b40e94b677cb"
      },
      "execution_count": 9,
      "outputs": [
        {
          "output_type": "execute_result",
          "data": {
            "text/plain": [
              "(4869, 3)"
            ]
          },
          "metadata": {},
          "execution_count": 9
        }
      ]
    },
    {
      "cell_type": "markdown",
      "source": [
        "# New Section"
      ],
      "metadata": {
        "id": "RJeaGfCRrrUA"
      }
    },
    {
      "cell_type": "code",
      "source": [
        "df.info()"
      ],
      "metadata": {
        "colab": {
          "base_uri": "https://localhost:8080/",
          "height": 0
        },
        "id": "78ufJHyPvBPg",
        "outputId": "86bfb612-e507-452d-ecdf-e30f979be292"
      },
      "execution_count": 10,
      "outputs": [
        {
          "output_type": "stream",
          "name": "stdout",
          "text": [
            "<class 'pandas.core.frame.DataFrame'>\n",
            "RangeIndex: 4869 entries, 0 to 4868\n",
            "Data columns (total 3 columns):\n",
            " #   Column     Non-Null Count  Dtype \n",
            "---  ------     --------------  ----- \n",
            " 0   File Name  4869 non-null   object\n",
            " 1   Caption    4869 non-null   object\n",
            " 2   LABEL      4869 non-null   object\n",
            "dtypes: object(3)\n",
            "memory usage: 114.2+ KB\n"
          ]
        }
      ]
    },
    {
      "cell_type": "code",
      "source": [
        "import nltk"
      ],
      "metadata": {
        "id": "DEMUcp7twgEe"
      },
      "execution_count": null,
      "outputs": []
    },
    {
      "cell_type": "code",
      "source": [
        "df['Caption']"
      ],
      "metadata": {
        "colab": {
          "base_uri": "https://localhost:8080/",
          "height": 458
        },
        "id": "Ieomsm0_xoMa",
        "outputId": "1bbee124-9444-40eb-8a69-b8ddd29df3dd"
      },
      "execution_count": 11,
      "outputs": [
        {
          "output_type": "execute_result",
          "data": {
            "text/plain": [
              "0           How I feel today #legday #jelly #aching #gym \n",
              "1       @ArrivaTW absolute disgrace two carriages from...\n",
              "2       This is my Valentine's from 1 of my nephews. I...\n",
              "3       betterfeelingfilms: RT via Instagram: First da...\n",
              "4              Zoe's first love #Rattled @JohnnyHarper15 \n",
              "                              ...                        \n",
              "4864    OMG. Well done #Eskom! 'Man dies during #LoadS...\n",
              "4865    Feelin' the love in here! #ValentinesDay #caring \n",
              "4866                        #blue #eyes can't be #beaten \n",
              "4867                LA CHUCHA LOUUU TE CHUPO LOS OJOS..! \n",
              "4868    #colorsplash_bw #zealous Remedios #herbales y ...\n",
              "Name: Caption, Length: 4869, dtype: object"
            ],
            "text/html": [
              "<div>\n",
              "<style scoped>\n",
              "    .dataframe tbody tr th:only-of-type {\n",
              "        vertical-align: middle;\n",
              "    }\n",
              "\n",
              "    .dataframe tbody tr th {\n",
              "        vertical-align: top;\n",
              "    }\n",
              "\n",
              "    .dataframe thead th {\n",
              "        text-align: right;\n",
              "    }\n",
              "</style>\n",
              "<table border=\"1\" class=\"dataframe\">\n",
              "  <thead>\n",
              "    <tr style=\"text-align: right;\">\n",
              "      <th></th>\n",
              "      <th>Caption</th>\n",
              "    </tr>\n",
              "  </thead>\n",
              "  <tbody>\n",
              "    <tr>\n",
              "      <th>0</th>\n",
              "      <td>How I feel today #legday #jelly #aching #gym</td>\n",
              "    </tr>\n",
              "    <tr>\n",
              "      <th>1</th>\n",
              "      <td>@ArrivaTW absolute disgrace two carriages from...</td>\n",
              "    </tr>\n",
              "    <tr>\n",
              "      <th>2</th>\n",
              "      <td>This is my Valentine's from 1 of my nephews. I...</td>\n",
              "    </tr>\n",
              "    <tr>\n",
              "      <th>3</th>\n",
              "      <td>betterfeelingfilms: RT via Instagram: First da...</td>\n",
              "    </tr>\n",
              "    <tr>\n",
              "      <th>4</th>\n",
              "      <td>Zoe's first love #Rattled @JohnnyHarper15</td>\n",
              "    </tr>\n",
              "    <tr>\n",
              "      <th>...</th>\n",
              "      <td>...</td>\n",
              "    </tr>\n",
              "    <tr>\n",
              "      <th>4864</th>\n",
              "      <td>OMG. Well done #Eskom! 'Man dies during #LoadS...</td>\n",
              "    </tr>\n",
              "    <tr>\n",
              "      <th>4865</th>\n",
              "      <td>Feelin' the love in here! #ValentinesDay #caring</td>\n",
              "    </tr>\n",
              "    <tr>\n",
              "      <th>4866</th>\n",
              "      <td>#blue #eyes can't be #beaten</td>\n",
              "    </tr>\n",
              "    <tr>\n",
              "      <th>4867</th>\n",
              "      <td>LA CHUCHA LOUUU TE CHUPO LOS OJOS..!</td>\n",
              "    </tr>\n",
              "    <tr>\n",
              "      <th>4868</th>\n",
              "      <td>#colorsplash_bw #zealous Remedios #herbales y ...</td>\n",
              "    </tr>\n",
              "  </tbody>\n",
              "</table>\n",
              "<p>4869 rows × 1 columns</p>\n",
              "</div><br><label><b>dtype:</b> object</label>"
            ]
          },
          "metadata": {},
          "execution_count": 11
        }
      ]
    },
    {
      "cell_type": "code",
      "source": [
        "import re\n",
        "\n",
        "def patterns(data):\n",
        "  regx = r\"#(\\w+)\"\n",
        "  matches = re.findall(regx,data)\n",
        "  print(data, \" = \",\" \".join(matches))\n",
        "\n",
        "patterns(str(df.Caption))"
      ],
      "metadata": {
        "colab": {
          "base_uri": "https://localhost:8080/"
        },
        "id": "GuoRJ_G99HfM",
        "outputId": "d0b7f998-7a15-4d27-950c-a5b90ce97cec"
      },
      "execution_count": 50,
      "outputs": [
        {
          "output_type": "stream",
          "name": "stdout",
          "text": [
            "0           How I feel today #legday #jelly #aching #gym \n",
            "1       @ArrivaTW absolute disgrace two carriages from...\n",
            "2       This is my Valentine's from 1 of my nephews. I...\n",
            "3       betterfeelingfilms: RT via Instagram: First da...\n",
            "4              Zoe's first love #Rattled @JohnnyHarper15 \n",
            "                              ...                        \n",
            "4864    OMG. Well done #Eskom! 'Man dies during #LoadS...\n",
            "4865    Feelin' the love in here! #ValentinesDay #caring \n",
            "4866                        #blue #eyes can't be #beaten \n",
            "4867                LA CHUCHA LOUUU TE CHUPO LOS OJOS..! \n",
            "4868    #colorsplash_bw #zealous Remedios #herbales y ...\n",
            "Name: Caption, Length: 4869, dtype: object  =  legday jelly aching gym Rattled Eskom LoadS ValentinesDay caring blue eyes beaten colorsplash_bw zealous herbales\n"
          ]
        }
      ]
    },
    {
      "cell_type": "code",
      "source": [],
      "metadata": {
        "id": "ByNa3x_gIGPu"
      },
      "execution_count": null,
      "outputs": []
    }
  ]
}